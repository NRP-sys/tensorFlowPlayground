{
 "cells": [
  {
   "cell_type": "code",
   "execution_count": null,
   "id": "c80d63e3",
   "metadata": {},
   "outputs": [],
   "source": [
    "\n",
    "# Import necessary functions\n",
    "from sklearn.datasets import make_moons\n",
    "import sklearn.neural_network as nn\n",
    "from sklearn.model_selection import train_test_split\n",
    "from keras.models import Sequential\n",
    "from keras.layers import Dense\n",
    "from keras.optimizers import Adam\n",
    "import tensorflow as tf"
   ]
  },
  {
   "cell_type": "code",
   "execution_count": null,
   "id": "4967c22a",
   "metadata": {},
   "outputs": [],
   "source": [
    "# Create Test Data via make_moons\n",
    "data,y=make_moons(n_samples=1000,noise=.2,random_state=22)\n",
    "X_train,X_test,y_train,y_test=train_test_split(data,y,test_size=.2)\n",
    "X_train.shape"
   ]
  },
  {
   "cell_type": "code",
   "execution_count": null,
   "id": "3f6c26a7",
   "metadata": {},
   "outputs": [],
   "source": [
    "# Train Model\n",
    "model=Sequential()\n",
    "model.add(tf.keras.layers.Input((2,)))\n",
    "model.add(Dense(8,activation='tanh'))\n",
    "model.add(Dense(4,activation='tanh'))\n",
    "model.add(Dense(1,activation='sigmoid'))\n",
    "model.compile(Adam(learning_rate=0.05),loss='binary_crossentropy',metrics=['accuracy'])"
   ]
  },
  {
   "cell_type": "code",
   "execution_count": null,
   "id": "72deb0af",
   "metadata": {},
   "outputs": [],
   "source": [
    "# fit model\n",
    "model.fit(X_train,y_train,epochs=20,verbose=2,validation_split=0.1)"
   ]
  },
  {
   "cell_type": "code",
   "execution_count": null,
   "id": "3937ea01",
   "metadata": {},
   "outputs": [],
   "source": [
    "# evaluate model performance\n",
    "model.evaluate(X_test,y_test)"
   ]
  }
 ],
 "metadata": {
  "kernelspec": {
   "display_name": ".venv",
   "language": "python",
   "name": "python3"
  },
  "language_info": {
   "codemirror_mode": {
    "name": "ipython",
    "version": 3
   },
   "file_extension": ".py",
   "mimetype": "text/x-python",
   "name": "python",
   "nbconvert_exporter": "python",
   "pygments_lexer": "ipython3",
   "version": "3.12.3"
  }
 },
 "nbformat": 4,
 "nbformat_minor": 5
}
