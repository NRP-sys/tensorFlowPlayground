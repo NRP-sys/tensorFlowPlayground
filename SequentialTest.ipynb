{
 "cells": [
  {
   "cell_type": "code",
   "execution_count": 8,
   "id": "c80d63e3",
   "metadata": {},
   "outputs": [],
   "source": [
    "\n",
    "# Import necessary functions\n",
    "from sklearn.datasets import make_moons\n",
    "import sklearn.neural_network as nn\n",
    "from sklearn.model_selection import train_test_split\n",
    "from keras.models import Sequential\n",
    "from keras.layers import Dense\n",
    "from keras.optimizers import Adam\n",
    "import tensorflow as tf"
   ]
  },
  {
   "cell_type": "code",
   "execution_count": 12,
   "id": "4967c22a",
   "metadata": {},
   "outputs": [
    {
     "data": {
      "text/plain": [
       "(800, 2)"
      ]
     },
     "execution_count": 12,
     "metadata": {},
     "output_type": "execute_result"
    }
   ],
   "source": [
    "# Create Test Data via make_moons\n",
    "data,y=make_moons(n_samples=1000,noise=.2,random_state=22)\n",
    "X_train,X_test,y_train,y_test=train_test_split(data,y,test_size=.2)\n",
    "X_train.shape"
   ]
  },
  {
   "cell_type": "code",
   "execution_count": 15,
   "id": "3f6c26a7",
   "metadata": {},
   "outputs": [
    {
     "ename": "ValueError",
     "evalue": "Cannot convert '800' to a shape.",
     "output_type": "error",
     "traceback": [
      "\u001b[31m---------------------------------------------------------------------------\u001b[39m",
      "\u001b[31mValueError\u001b[39m                                Traceback (most recent call last)",
      "\u001b[36mCell\u001b[39m\u001b[36m \u001b[39m\u001b[32mIn[15]\u001b[39m\u001b[32m, line 4\u001b[39m\n\u001b[32m      2\u001b[39m model=Sequential()\n\u001b[32m      3\u001b[39m \u001b[38;5;66;03m#model.add(tf.keras.Input(2,))\u001b[39;00m\n\u001b[32m----> \u001b[39m\u001b[32m4\u001b[39m model.add(Dense(\u001b[32m8\u001b[39m,\u001b[43mtf\u001b[49m\u001b[43m.\u001b[49m\u001b[43mkeras\u001b[49m\u001b[43m.\u001b[49m\u001b[43mlayers\u001b[49m\u001b[43m.\u001b[49m\u001b[43mInput\u001b[49m\u001b[43m(\u001b[49m\u001b[32;43m800\u001b[39;49m\u001b[43m,\u001b[49m\u001b[32;43m2\u001b[39;49m\u001b[43m)\u001b[49m,activation=\u001b[33m'\u001b[39m\u001b[33mtanh\u001b[39m\u001b[33m'\u001b[39m))\n\u001b[32m      5\u001b[39m model.add(Dense(\u001b[32m4\u001b[39m,activation=\u001b[33m'\u001b[39m\u001b[33mtanh\u001b[39m\u001b[33m'\u001b[39m))\n\u001b[32m      6\u001b[39m model.add(Dense(\u001b[32m1\u001b[39m,activation=\u001b[33m'\u001b[39m\u001b[33msigmoid\u001b[39m\u001b[33m'\u001b[39m))\n",
      "\u001b[36mFile \u001b[39m\u001b[32m~/tensorFlowPlayground/.venv/lib/python3.12/site-packages/keras/src/layers/core/input_layer.py:209\u001b[39m, in \u001b[36mInput\u001b[39m\u001b[34m(shape, batch_size, dtype, sparse, ragged, batch_shape, name, tensor, optional)\u001b[39m\n\u001b[32m    144\u001b[39m \u001b[38;5;129m@keras_export\u001b[39m([\u001b[33m\"\u001b[39m\u001b[33mkeras.layers.Input\u001b[39m\u001b[33m\"\u001b[39m, \u001b[33m\"\u001b[39m\u001b[33mkeras.Input\u001b[39m\u001b[33m\"\u001b[39m])\n\u001b[32m    145\u001b[39m \u001b[38;5;28;01mdef\u001b[39;00m\u001b[38;5;250m \u001b[39m\u001b[34mInput\u001b[39m(\n\u001b[32m    146\u001b[39m     shape=\u001b[38;5;28;01mNone\u001b[39;00m,\n\u001b[32m   (...)\u001b[39m\u001b[32m    154\u001b[39m     optional=\u001b[38;5;28;01mFalse\u001b[39;00m,\n\u001b[32m    155\u001b[39m ):\n\u001b[32m    156\u001b[39m \u001b[38;5;250m    \u001b[39m\u001b[33;03m\"\"\"Used to instantiate a Keras tensor.\u001b[39;00m\n\u001b[32m    157\u001b[39m \n\u001b[32m    158\u001b[39m \u001b[33;03m    A Keras tensor is a symbolic tensor-like object, which we augment with\u001b[39;00m\n\u001b[32m   (...)\u001b[39m\u001b[32m    207\u001b[39m \u001b[33;03m    ```\u001b[39;00m\n\u001b[32m    208\u001b[39m \u001b[33;03m    \"\"\"\u001b[39;00m\n\u001b[32m--> \u001b[39m\u001b[32m209\u001b[39m     layer = \u001b[43mInputLayer\u001b[49m\u001b[43m(\u001b[49m\n\u001b[32m    210\u001b[39m \u001b[43m        \u001b[49m\u001b[43mshape\u001b[49m\u001b[43m=\u001b[49m\u001b[43mshape\u001b[49m\u001b[43m,\u001b[49m\n\u001b[32m    211\u001b[39m \u001b[43m        \u001b[49m\u001b[43mbatch_size\u001b[49m\u001b[43m=\u001b[49m\u001b[43mbatch_size\u001b[49m\u001b[43m,\u001b[49m\n\u001b[32m    212\u001b[39m \u001b[43m        \u001b[49m\u001b[43mdtype\u001b[49m\u001b[43m=\u001b[49m\u001b[43mdtype\u001b[49m\u001b[43m,\u001b[49m\n\u001b[32m    213\u001b[39m \u001b[43m        \u001b[49m\u001b[43msparse\u001b[49m\u001b[43m=\u001b[49m\u001b[43msparse\u001b[49m\u001b[43m,\u001b[49m\n\u001b[32m    214\u001b[39m \u001b[43m        \u001b[49m\u001b[43mragged\u001b[49m\u001b[43m=\u001b[49m\u001b[43mragged\u001b[49m\u001b[43m,\u001b[49m\n\u001b[32m    215\u001b[39m \u001b[43m        \u001b[49m\u001b[43mbatch_shape\u001b[49m\u001b[43m=\u001b[49m\u001b[43mbatch_shape\u001b[49m\u001b[43m,\u001b[49m\n\u001b[32m    216\u001b[39m \u001b[43m        \u001b[49m\u001b[43mname\u001b[49m\u001b[43m=\u001b[49m\u001b[43mname\u001b[49m\u001b[43m,\u001b[49m\n\u001b[32m    217\u001b[39m \u001b[43m        \u001b[49m\u001b[43minput_tensor\u001b[49m\u001b[43m=\u001b[49m\u001b[43mtensor\u001b[49m\u001b[43m,\u001b[49m\n\u001b[32m    218\u001b[39m \u001b[43m        \u001b[49m\u001b[43moptional\u001b[49m\u001b[43m=\u001b[49m\u001b[43moptional\u001b[49m\u001b[43m,\u001b[49m\n\u001b[32m    219\u001b[39m \u001b[43m    \u001b[49m\u001b[43m)\u001b[49m\n\u001b[32m    220\u001b[39m     \u001b[38;5;28;01mreturn\u001b[39;00m layer.output\n",
      "\u001b[36mFile \u001b[39m\u001b[32m~/tensorFlowPlayground/.venv/lib/python3.12/site-packages/keras/src/layers/core/input_layer.py:92\u001b[39m, in \u001b[36mInputLayer.__init__\u001b[39m\u001b[34m(self, shape, batch_size, dtype, sparse, ragged, batch_shape, input_tensor, optional, name, **kwargs)\u001b[39m\n\u001b[32m     89\u001b[39m         \u001b[38;5;28;01mraise\u001b[39;00m \u001b[38;5;167;01mValueError\u001b[39;00m(\u001b[33m\"\u001b[39m\u001b[33mYou must pass a `shape` argument.\u001b[39m\u001b[33m\"\u001b[39m)\n\u001b[32m     91\u001b[39m     \u001b[38;5;28;01mif\u001b[39;00m shape \u001b[38;5;129;01mis\u001b[39;00m \u001b[38;5;129;01mnot\u001b[39;00m \u001b[38;5;28;01mNone\u001b[39;00m:\n\u001b[32m---> \u001b[39m\u001b[32m92\u001b[39m         shape = \u001b[43mbackend\u001b[49m\u001b[43m.\u001b[49m\u001b[43mstandardize_shape\u001b[49m\u001b[43m(\u001b[49m\u001b[43mshape\u001b[49m\u001b[43m)\u001b[49m\n\u001b[32m     93\u001b[39m         batch_shape = (batch_size,) + shape\n\u001b[32m     95\u001b[39m \u001b[38;5;28mself\u001b[39m._batch_shape = backend.standardize_shape(batch_shape)\n",
      "\u001b[36mFile \u001b[39m\u001b[32m~/tensorFlowPlayground/.venv/lib/python3.12/site-packages/keras/src/backend/common/variables.py:587\u001b[39m, in \u001b[36mstandardize_shape\u001b[39m\u001b[34m(shape)\u001b[39m\n\u001b[32m    585\u001b[39m     \u001b[38;5;28;01mraise\u001b[39;00m \u001b[38;5;167;01mValueError\u001b[39;00m(\u001b[33m\"\u001b[39m\u001b[33mUndefined shapes are not supported.\u001b[39m\u001b[33m\"\u001b[39m)\n\u001b[32m    586\u001b[39m \u001b[38;5;28;01mif\u001b[39;00m \u001b[38;5;129;01mnot\u001b[39;00m \u001b[38;5;28mhasattr\u001b[39m(shape, \u001b[33m\"\u001b[39m\u001b[33m__iter__\u001b[39m\u001b[33m\"\u001b[39m):\n\u001b[32m--> \u001b[39m\u001b[32m587\u001b[39m     \u001b[38;5;28;01mraise\u001b[39;00m \u001b[38;5;167;01mValueError\u001b[39;00m(\u001b[33mf\u001b[39m\u001b[33m\"\u001b[39m\u001b[33mCannot convert \u001b[39m\u001b[33m'\u001b[39m\u001b[38;5;132;01m{\u001b[39;00mshape\u001b[38;5;132;01m}\u001b[39;00m\u001b[33m'\u001b[39m\u001b[33m to a shape.\u001b[39m\u001b[33m\"\u001b[39m)\n\u001b[32m    588\u001b[39m \u001b[38;5;28;01mif\u001b[39;00m config.backend() == \u001b[33m\"\u001b[39m\u001b[33mtensorflow\u001b[39m\u001b[33m\"\u001b[39m:\n\u001b[32m    589\u001b[39m     \u001b[38;5;28;01mif\u001b[39;00m \u001b[38;5;28misinstance\u001b[39m(shape, tf.TensorShape):\n\u001b[32m    590\u001b[39m         \u001b[38;5;66;03m# `tf.TensorShape` may contain `Dimension` objects.\u001b[39;00m\n\u001b[32m    591\u001b[39m         \u001b[38;5;66;03m# We need to convert the items in it to either int or `None`\u001b[39;00m\n",
      "\u001b[31mValueError\u001b[39m: Cannot convert '800' to a shape."
     ]
    }
   ],
   "source": [
    "# Train Model\n",
    "model=Sequential()\n",
    "#model.add(tf.keras.Input(2,))\n",
    "model.add(Dense(8,tf.keras.layers.Input(800,2),activation='tanh'))\n",
    "model.add(Dense(4,activation='tanh'))\n",
    "model.add(Dense(1,activation='sigmoid'))\n",
    "model.compile(Adam(learning_rate=0.05),loss='binary_crossentropy',metrics=['accuracy'])"
   ]
  },
  {
   "cell_type": "code",
   "execution_count": null,
   "id": "72deb0af",
   "metadata": {},
   "outputs": [
    {
     "name": "stdout",
     "output_type": "stream",
     "text": [
      "Epoch 1/20\n",
      "23/23 - 2s - 68ms/step - accuracy: 0.8431 - loss: 0.3820 - val_accuracy: 0.8750 - val_loss: 0.2920\n",
      "Epoch 2/20\n",
      "23/23 - 0s - 5ms/step - accuracy: 0.8556 - loss: 0.3478 - val_accuracy: 0.8875 - val_loss: 0.3014\n",
      "Epoch 3/20\n",
      "23/23 - 0s - 4ms/step - accuracy: 0.8542 - loss: 0.3283 - val_accuracy: 0.8750 - val_loss: 0.2908\n",
      "Epoch 4/20\n",
      "23/23 - 0s - 6ms/step - accuracy: 0.8597 - loss: 0.3401 - val_accuracy: 0.8500 - val_loss: 0.2999\n",
      "Epoch 5/20\n",
      "23/23 - 0s - 7ms/step - accuracy: 0.8597 - loss: 0.3321 - val_accuracy: 0.8750 - val_loss: 0.2785\n",
      "Epoch 6/20\n",
      "23/23 - 0s - 5ms/step - accuracy: 0.8528 - loss: 0.3233 - val_accuracy: 0.8750 - val_loss: 0.2846\n",
      "Epoch 7/20\n",
      "23/23 - 0s - 9ms/step - accuracy: 0.8569 - loss: 0.3040 - val_accuracy: 0.8875 - val_loss: 0.2469\n",
      "Epoch 8/20\n",
      "23/23 - 0s - 9ms/step - accuracy: 0.8889 - loss: 0.2580 - val_accuracy: 0.9625 - val_loss: 0.1544\n",
      "Epoch 9/20\n",
      "23/23 - 0s - 6ms/step - accuracy: 0.9347 - loss: 0.1971 - val_accuracy: 0.9625 - val_loss: 0.1132\n",
      "Epoch 10/20\n",
      "23/23 - 0s - 5ms/step - accuracy: 0.9569 - loss: 0.1501 - val_accuracy: 1.0000 - val_loss: 0.0910\n",
      "Epoch 11/20\n",
      "23/23 - 0s - 8ms/step - accuracy: 0.9500 - loss: 0.1468 - val_accuracy: 0.9250 - val_loss: 0.1175\n",
      "Epoch 12/20\n",
      "23/23 - 0s - 4ms/step - accuracy: 0.9542 - loss: 0.1322 - val_accuracy: 1.0000 - val_loss: 0.0454\n",
      "Epoch 13/20\n",
      "23/23 - 0s - 5ms/step - accuracy: 0.9597 - loss: 0.1156 - val_accuracy: 0.9875 - val_loss: 0.0483\n",
      "Epoch 14/20\n",
      "23/23 - 0s - 5ms/step - accuracy: 0.9625 - loss: 0.1204 - val_accuracy: 1.0000 - val_loss: 0.0435\n",
      "Epoch 15/20\n",
      "23/23 - 0s - 6ms/step - accuracy: 0.9556 - loss: 0.1228 - val_accuracy: 1.0000 - val_loss: 0.0415\n",
      "Epoch 16/20\n",
      "23/23 - 0s - 10ms/step - accuracy: 0.9542 - loss: 0.1175 - val_accuracy: 1.0000 - val_loss: 0.0501\n",
      "Epoch 17/20\n",
      "23/23 - 0s - 6ms/step - accuracy: 0.9542 - loss: 0.1343 - val_accuracy: 1.0000 - val_loss: 0.0411\n",
      "Epoch 18/20\n",
      "23/23 - 0s - 5ms/step - accuracy: 0.9556 - loss: 0.1183 - val_accuracy: 0.9875 - val_loss: 0.0383\n",
      "Epoch 19/20\n",
      "23/23 - 0s - 6ms/step - accuracy: 0.9431 - loss: 0.1421 - val_accuracy: 0.9875 - val_loss: 0.0672\n",
      "Epoch 20/20\n",
      "23/23 - 0s - 7ms/step - accuracy: 0.9542 - loss: 0.1240 - val_accuracy: 0.9875 - val_loss: 0.0574\n"
     ]
    },
    {
     "data": {
      "text/plain": [
       "<keras.src.callbacks.history.History at 0x7fc67c642ab0>"
      ]
     },
     "execution_count": 48,
     "metadata": {},
     "output_type": "execute_result"
    }
   ],
   "source": [
    "# fit model\n",
    "model.fit(X_train,y_train,epochs=20,verbose=2,validation_split=0.1)"
   ]
  },
  {
   "cell_type": "code",
   "execution_count": 1,
   "id": "3937ea01",
   "metadata": {},
   "outputs": [
    {
     "ename": "NameError",
     "evalue": "name 'model' is not defined",
     "output_type": "error",
     "traceback": [
      "\u001b[31m---------------------------------------------------------------------------\u001b[39m",
      "\u001b[31mNameError\u001b[39m                                 Traceback (most recent call last)",
      "\u001b[36mCell\u001b[39m\u001b[36m \u001b[39m\u001b[32mIn[1]\u001b[39m\u001b[32m, line 2\u001b[39m\n\u001b[32m      1\u001b[39m \u001b[38;5;66;03m# evaluate model performance\u001b[39;00m\n\u001b[32m----> \u001b[39m\u001b[32m2\u001b[39m \u001b[43mmodel\u001b[49m.evaluate(X_test,y_test)\n",
      "\u001b[31mNameError\u001b[39m: name 'model' is not defined"
     ]
    }
   ],
   "source": [
    "# evaluate model performance\n",
    "model.evaluate(X_test,y_test)"
   ]
  },
  {
   "cell_type": "code",
   "execution_count": null,
   "id": "ca57c7bc",
   "metadata": {},
   "outputs": [],
   "source": []
  }
 ],
 "metadata": {
  "kernelspec": {
   "display_name": ".venv",
   "language": "python",
   "name": "python3"
  },
  "language_info": {
   "codemirror_mode": {
    "name": "ipython",
    "version": 3
   },
   "file_extension": ".py",
   "mimetype": "text/x-python",
   "name": "python",
   "nbconvert_exporter": "python",
   "pygments_lexer": "ipython3",
   "version": "3.12.3"
  }
 },
 "nbformat": 4,
 "nbformat_minor": 5
}
