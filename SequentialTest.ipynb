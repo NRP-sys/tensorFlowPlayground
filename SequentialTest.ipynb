{
 "cells": [
  {
   "cell_type": "code",
   "execution_count": 11,
   "id": "c80d63e3",
   "metadata": {},
   "outputs": [],
   "source": [
    "\n",
    "# Import necessary functions\n",
    "from sklearn.datasets import make_moons\n",
    "import sklearn.neural_network as nn\n",
    "from sklearn.model_selection import train_test_split\n",
    "from keras.models import Sequential\n",
    "from keras.layers import Dense\n",
    "from keras.optimizers import Adam"
   ]
  },
  {
   "cell_type": "code",
   "execution_count": 26,
   "id": "4967c22a",
   "metadata": {},
   "outputs": [],
   "source": [
    "# Create Test Data via make_moons\n",
    "data,y=make_moons(n_samples=1000,noise=.2,random_state=22)\n",
    "X_train,X_test,y_train,y_test=train_test_split(data,y,test_size=.2)"
   ]
  },
  {
   "cell_type": "code",
   "execution_count": 47,
   "id": "3f6c26a7",
   "metadata": {},
   "outputs": [
    {
     "name": "stderr",
     "output_type": "stream",
     "text": [
      "/home/patto/tensorFlowPlayground/.venv/lib/python3.12/site-packages/keras/src/layers/core/dense.py:93: UserWarning: Do not pass an `input_shape`/`input_dim` argument to a layer. When using Sequential models, prefer using an `Input(shape)` object as the first layer in the model instead.\n",
      "  super().__init__(activity_regularizer=activity_regularizer, **kwargs)\n"
     ]
    }
   ],
   "source": [
    "# Train Model\n",
    "model=Sequential()\n",
    "model.add(Dense(8,input_shape=(2,),activation='tanh'))\n",
    "model.add(Dense(4,activation='tanh'))\n",
    "model.add(Dense(1,activation='sigmoid'))\n",
    "model.compile(Adam(learning_rate=0.05),loss='binary_crossentropy',metrics=['accuracy'])"
   ]
  },
  {
   "cell_type": "code",
   "execution_count": null,
   "id": "72deb0af",
   "metadata": {},
   "outputs": [
    {
     "name": "stdout",
     "output_type": "stream",
     "text": [
      "Epoch 1/20\n",
      "23/23 - 2s - 68ms/step - accuracy: 0.8431 - loss: 0.3820 - val_accuracy: 0.8750 - val_loss: 0.2920\n",
      "Epoch 2/20\n",
      "23/23 - 0s - 5ms/step - accuracy: 0.8556 - loss: 0.3478 - val_accuracy: 0.8875 - val_loss: 0.3014\n",
      "Epoch 3/20\n",
      "23/23 - 0s - 4ms/step - accuracy: 0.8542 - loss: 0.3283 - val_accuracy: 0.8750 - val_loss: 0.2908\n",
      "Epoch 4/20\n",
      "23/23 - 0s - 6ms/step - accuracy: 0.8597 - loss: 0.3401 - val_accuracy: 0.8500 - val_loss: 0.2999\n",
      "Epoch 5/20\n",
      "23/23 - 0s - 7ms/step - accuracy: 0.8597 - loss: 0.3321 - val_accuracy: 0.8750 - val_loss: 0.2785\n",
      "Epoch 6/20\n",
      "23/23 - 0s - 5ms/step - accuracy: 0.8528 - loss: 0.3233 - val_accuracy: 0.8750 - val_loss: 0.2846\n",
      "Epoch 7/20\n",
      "23/23 - 0s - 9ms/step - accuracy: 0.8569 - loss: 0.3040 - val_accuracy: 0.8875 - val_loss: 0.2469\n",
      "Epoch 8/20\n",
      "23/23 - 0s - 9ms/step - accuracy: 0.8889 - loss: 0.2580 - val_accuracy: 0.9625 - val_loss: 0.1544\n",
      "Epoch 9/20\n",
      "23/23 - 0s - 6ms/step - accuracy: 0.9347 - loss: 0.1971 - val_accuracy: 0.9625 - val_loss: 0.1132\n",
      "Epoch 10/20\n",
      "23/23 - 0s - 5ms/step - accuracy: 0.9569 - loss: 0.1501 - val_accuracy: 1.0000 - val_loss: 0.0910\n",
      "Epoch 11/20\n",
      "23/23 - 0s - 8ms/step - accuracy: 0.9500 - loss: 0.1468 - val_accuracy: 0.9250 - val_loss: 0.1175\n",
      "Epoch 12/20\n",
      "23/23 - 0s - 4ms/step - accuracy: 0.9542 - loss: 0.1322 - val_accuracy: 1.0000 - val_loss: 0.0454\n",
      "Epoch 13/20\n",
      "23/23 - 0s - 5ms/step - accuracy: 0.9597 - loss: 0.1156 - val_accuracy: 0.9875 - val_loss: 0.0483\n",
      "Epoch 14/20\n",
      "23/23 - 0s - 5ms/step - accuracy: 0.9625 - loss: 0.1204 - val_accuracy: 1.0000 - val_loss: 0.0435\n",
      "Epoch 15/20\n",
      "23/23 - 0s - 6ms/step - accuracy: 0.9556 - loss: 0.1228 - val_accuracy: 1.0000 - val_loss: 0.0415\n",
      "Epoch 16/20\n",
      "23/23 - 0s - 10ms/step - accuracy: 0.9542 - loss: 0.1175 - val_accuracy: 1.0000 - val_loss: 0.0501\n",
      "Epoch 17/20\n",
      "23/23 - 0s - 6ms/step - accuracy: 0.9542 - loss: 0.1343 - val_accuracy: 1.0000 - val_loss: 0.0411\n",
      "Epoch 18/20\n",
      "23/23 - 0s - 5ms/step - accuracy: 0.9556 - loss: 0.1183 - val_accuracy: 0.9875 - val_loss: 0.0383\n",
      "Epoch 19/20\n",
      "23/23 - 0s - 6ms/step - accuracy: 0.9431 - loss: 0.1421 - val_accuracy: 0.9875 - val_loss: 0.0672\n",
      "Epoch 20/20\n",
      "23/23 - 0s - 7ms/step - accuracy: 0.9542 - loss: 0.1240 - val_accuracy: 0.9875 - val_loss: 0.0574\n"
     ]
    },
    {
     "data": {
      "text/plain": [
       "<keras.src.callbacks.history.History at 0x7fc67c642ab0>"
      ]
     },
     "execution_count": 48,
     "metadata": {},
     "output_type": "execute_result"
    }
   ],
   "source": [
    "# fit model\n",
    "model.fit(X_train,y_train,epochs=20,verbose=2,validation_split=0.1)"
   ]
  },
  {
   "cell_type": "code",
   "execution_count": null,
   "id": "3937ea01",
   "metadata": {},
   "outputs": [
    {
     "name": "stdout",
     "output_type": "stream",
     "text": [
      "\u001b[1m1/7\u001b[0m \u001b[32m━━\u001b[0m\u001b[37m━━━━━━━━━━━━━━━━━━\u001b[0m \u001b[1m0s\u001b[0m 18ms/step"
     ]
    },
    {
     "name": "stdout",
     "output_type": "stream",
     "text": [
      "\u001b[1m7/7\u001b[0m \u001b[32m━━━━━━━━━━━━━━━━━━━━\u001b[0m\u001b[37m\u001b[0m \u001b[1m0s\u001b[0m 5ms/step \n",
      "\u001b[1m7/7\u001b[0m \u001b[32m━━━━━━━━━━━━━━━━━━━━\u001b[0m\u001b[37m\u001b[0m \u001b[1m0s\u001b[0m 4ms/step - accuracy: 0.9166 - loss: 0.1395 \n"
     ]
    },
    {
     "data": {
      "text/plain": [
       "[0.1221112608909607, 0.9350000023841858]"
      ]
     },
     "execution_count": 50,
     "metadata": {},
     "output_type": "execute_result"
    }
   ],
   "source": [
    "# evaluate model performance\n",
    "model.evaluate(X_test,y_test)"
   ]
  },
  {
   "cell_type": "code",
   "execution_count": null,
   "id": "ca57c7bc",
   "metadata": {},
   "outputs": [],
   "source": []
  }
 ],
 "metadata": {
  "kernelspec": {
   "display_name": ".venv",
   "language": "python",
   "name": "python3"
  },
  "language_info": {
   "codemirror_mode": {
    "name": "ipython",
    "version": 3
   },
   "file_extension": ".py",
   "mimetype": "text/x-python",
   "name": "python",
   "nbconvert_exporter": "python",
   "pygments_lexer": "ipython3",
   "version": "3.12.3"
  }
 },
 "nbformat": 4,
 "nbformat_minor": 5
}
